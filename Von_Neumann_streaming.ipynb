{
 "cells": [
  {
   "cell_type": "code",
   "execution_count": 4,
   "metadata": {},
   "outputs": [],
   "source": [
    "from qiskit import *\n",
    "import math\n",
    "from qiskit.tools.visualization import plot_bloch_multivector\n",
    "from qiskit.tools.visualization import plot_histogram\n",
    "%matplotlib inline\n",
    "import matplotlib.pyplot as plt"
   ]
  },
  {
   "cell_type": "code",
   "execution_count": null,
   "metadata": {},
   "outputs": [],
   "source": [
    "theta = math.pi / 4 #choose theta between -pi/2 and pi/2\n",
    "N = 12 # nr of bits we want to read, should be a multiple of 4\n",
    "\n",
    "_, ax = plt.subplots(1, N // 4, figsize=(20, 6))\n",
    "\n",
    "for k in range(4, N + 4, 4):\n",
    "    qr = QuantumRegister(3 * k // 2, 'q')\n",
    "    cr = ClassicalRegister(2, 'c')\n",
    "    output = ClassicalRegister(k // 2)\n",
    "    circuit = QuantumCircuit(qr, cr, output)\n",
    "    for i in range(k, 3 * k // 2, 2):\n",
    "        circuit.x(qr[i])\n",
    "    for i in range(0, k, 4):\n",
    "        circuit.h([i,i + 2])\n",
    "        circuit.ry(theta, [i, i + 2])\n",
    "        circuit.cx([i, i + 2], [i + 1, i + 3])\n",
    "        circuit.barrier()\n",
    "        circuit.cx([i, i + 1], [i + 2, i + 3])\n",
    "        circuit.measure([i + 2, i + 3], [0, 1])\n",
    "        circuit.barrier()\n",
    "        for j in range(i // 4, 0, -1): \n",
    "            circuit.swap([k + 2 * (j - 1), k + 2 * (j - 1) + 1], [k + 2 * (j - 1) + 2, k + 2 * (j - 1) + 3]).c_if(cr, 3)\n",
    "        circuit.swap([i, i + 1], [k, k + 1]).c_if(cr, 3)\n",
    "        circuit.barrier()\n",
    "    circuit.measure(qr[k:(3 * k // 2)], output[:k // 2])\n",
    "    simulator = Aer.get_backend('qasm_simulator')\n",
    "    shots = 1024\n",
    "    result = execute(circuit, backend = simulator, shots=shots).result()\n",
    "    plot_histogram(result.get_counts(circuit), ax=ax[k//4 - 1])\n",
    "\n",
    "    plt.tight_layout()"
   ]
  },
  {
   "cell_type": "code",
   "execution_count": null,
   "metadata": {},
   "outputs": [],
   "source": []
  },
  {
   "cell_type": "code",
   "execution_count": null,
   "metadata": {},
   "outputs": [],
   "source": [
    "theta = math.pi / 4 #choose theta between -pi/2 and pi/2\n",
    "N = 12 # nr of bits we want to read, should be a multiple of 4\n",
    "\n",
    "qr = QuantumRegister(3 * N // 2, 'q')\n",
    "cr = ClassicalRegister(2, 'c')\n",
    "output = ClassicalRegister(N // 4)\n",
    "circuit = QuantumCircuit(qr, cr, output)\n",
    "\n",
    "for i in range(N, 3 * N // 2, 2):\n",
    "    circuit.x([i])\n",
    "\n",
    "for i in range(0, k, 4):\n",
    "    circuit.h([i,i + 2])\n",
    "    circuit.ry(theta, [i, i + 2])\n",
    "    circuit.cx([i, i + 2], [i + 1, i + 3])\n",
    "    circuit.barrier()\n",
    "    circuit.cx([i, i + 1], [i + 2, i + 3])\n",
    "    circuit.measure([i + 2, i + 3], [0, 1])\n",
    "    circuit.barrier()\n",
    "    for j in range(i // 4, 0, -1): \n",
    "        circuit.swap([N + 2 * (j - 1), N + 2 * (j - 1) + 1], [N + 2 * (j - 1) + 2, N + 2 * (j - 1) + 3]).c_if(cr, 3)\n",
    "    circuit.swap([i, i + 1], [N, N + 1]).c_if(cr, 3)\n",
    "    circuit.barrier()\n",
    "\n",
    "\n",
    "%matplotlib inline\n",
    "circuit.draw(output='mpl')"
   ]
  }
 ],
 "metadata": {
  "kernelspec": {
   "display_name": "Python 3",
   "language": "python",
   "name": "python3"
  }
 },
 "nbformat": 4,
 "nbformat_minor": 4
}
